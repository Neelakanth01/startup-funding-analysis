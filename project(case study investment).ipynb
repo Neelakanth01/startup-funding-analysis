{
 "cells": [
  {
   "cell_type": "markdown",
   "id": "2c05a2d5",
   "metadata": {},
   "source": [
    "# Number of Fundings"
   ]
  },
  {
   "cell_type": "code",
   "execution_count": null,
   "id": "fffc4ba5",
   "metadata": {},
   "outputs": [],
   "source": [
    "# Open and read data file as specified in the question\n",
    "# Print the required output in given format\n",
    "import pandas as pd \n",
    "import numpy as np \n",
    "import matplotlib.pyplot as plt\n",
    "\n",
    "df = pd.read_csv('startup_funding.csv')\n",
    "df.Date = df.Date.str[-4:]\n",
    "df = df.groupby(by='Date').size()\n",
    "year_No_dict = df.to_dict()\n",
    "year = []\n",
    "no_of_funding=[]\n",
    "for k,v in year_No_dict.items():\n",
    "    no_of_funding.append(v)\n",
    "    year.append(k)\n",
    "    print(k,v)\n",
    "\n",
    "    \n",
    "plt.plot(year,no_of_funding)\n",
    "plt.title('trend of investments over the years')\n",
    "plt.xlabel('Year')\n",
    "plt.ylabel('No. of Fundings')\n",
    "plt.show()"
   ]
  },
  {
   "cell_type": "markdown",
   "id": "98a70390",
   "metadata": {},
   "source": [
    "# Top Indian Cities"
   ]
  },
  {
   "cell_type": "code",
   "execution_count": null,
   "id": "b29be6a4",
   "metadata": {},
   "outputs": [],
   "source": [
    "import pandas as pd \n",
    "import numpy as np \n",
    "import matplotlib.pyplot as plt\n",
    "\n",
    "df = pd.read_csv('startup_funding.csv')\n",
    "df = df.dropna(subset=['CityLocation'])\n",
    "def separateCity(city): \n",
    "    return city.split('/')[0].strip() \n",
    "df['CityLocation']=df['CityLocation'].apply(separateCity)\n",
    "df[df['CityLocation']=='bangalore'] = 'Bangalore'\n",
    "df[df['CityLocation']=='Delhi'] = 'New Delhi'\n",
    "\n",
    "df = df.groupby(by='CityLocation').size()\n",
    "df = df.nlargest(10)\n",
    "df = df.to_dict()\n",
    "City=[]\n",
    "no_of_statup=[]\n",
    "for i , j in df.items():\n",
    "    City.append(i)\n",
    "    no_of_statup.append(j)\n",
    "    print(i,j)\n",
    "\n",
    "plt.pie(no_of_statup,labels=City,autopct='%.2f')\n",
    "plt.show()"
   ]
  },
  {
   "cell_type": "markdown",
   "id": "425242d4",
   "metadata": {},
   "source": [
    "# Funding amount"
   ]
  },
  {
   "cell_type": "code",
   "execution_count": null,
   "id": "5a31cf61",
   "metadata": {},
   "outputs": [],
   "source": [
    "import pandas as pd \n",
    "import numpy as np \n",
    "import matplotlib.pyplot as plt\n",
    "\n",
    "df = pd.read_csv('startup_funding.csv',encoding = 'utf-8')\n",
    "df.dropna(subset=[\"CityLocation\"],inplace=True)\n",
    "def separateCity(city):\n",
    "    return city.split('/')[0].strip()\n",
    "df['CityLocation'] = df['CityLocation'].apply(separateCity)\n",
    "df['CityLocation'].replace(\"Delhi\",\"New Delhi\",inplace = True)\n",
    "df['CityLocation'].replace(\"bangalore\",\"Bangalore\",inplace = True)\n",
    "\n",
    "df['AmountInUSD'] = df['AmountInUSD'].apply(lambda x: float(str(x).replace(\",\",\"\")))\n",
    "df = df.groupby('CityLocation')['AmountInUSD'].sum()\n",
    "df = df.sort_values(ascending = False)[0:10]\n",
    "city = df.index\n",
    "amount = df.values\n",
    "explode = [0.2,0.2,0.2,0.2,0.1,0.1,0.2,0.2,0.2,0.2]\n",
    "plt.pie(amount,labels = city,autopct='%0.2f',counterclock=False,startangle=90,explode =explode,radius=1.5)\n",
    "plt.show()\n",
    "\n",
    "percent = np.true_divide(amount,amount.sum())*100\n",
    "for i in range(len(city)):\n",
    "    print(city[i],format(percent[i],'0.2f'))"
   ]
  },
  {
   "cell_type": "markdown",
   "id": "74f8b164",
   "metadata": {},
   "source": [
    "# Investment Type"
   ]
  },
  {
   "cell_type": "code",
   "execution_count": null,
   "id": "adf2afd7",
   "metadata": {},
   "outputs": [],
   "source": [
    "import pandas as pd \n",
    "import numpy as np \n",
    "import matplotlib.pyplot as plt\n",
    "\n",
    "df = pd.read_csv('startup_funding.csv',encoding = 'utf-8')\n",
    "df['AmountInUSD'] = df['AmountInUSD'].apply(lambda x: float(str(x).replace(\",\",\"\")))\n",
    "df['InvestmentType'] = df['InvestmentType'].replace(['Crowd funding','PrivateEquity','SeedFunding'],['Crowd Funding','Private Equity','Seed Funding'])\n",
    "df= df.groupby(by='InvestmentType')['AmountInUSD'].sum()\n",
    "df = df.sort_values(ascending = False)\n",
    "InvestmentType = df.index\n",
    "amount = df.values\n",
    "plt.pie(amount,labels = InvestmentType,autopct='%0.2f',counterclock=False,startangle=90,radius=1.5)\n",
    "plt.show()\n",
    "\n",
    "percent = np.true_divide(amount,amount.sum())*100\n",
    "for i in range(len(InvestmentType)):\n",
    "    print(InvestmentType[i],format(percent[i],'0.2f'))"
   ]
  },
  {
   "cell_type": "markdown",
   "id": "77c8f0fa",
   "metadata": {},
   "source": [
    "# Top Industries"
   ]
  },
  {
   "cell_type": "code",
   "execution_count": null,
   "id": "4dd47f35",
   "metadata": {},
   "outputs": [],
   "source": [
    "import pandas as pd\n",
    "import numpy as np\n",
    "import matplotlib.pyplot as plt\n",
    "\n",
    "df = pd.read_csv('startup_funding.csv',encoding = 'utf-8')\n",
    "df['IndustryVertical'].replace('ECommerce','Ecommerce',inplace = True)\n",
    "df['IndustryVertical'].replace('eCommerce','Ecommerce',inplace = True)\n",
    "df['IndustryVertical'].replace('ecommerce','Ecommerce',inplace = True)\n",
    "df['AmountInUSD'] = df['AmountInUSD'].apply(lambda x: float(str(x).replace(\",\",\"\")))\n",
    "df = df.groupby('IndustryVertical')['AmountInUSD'].sum()\n",
    "df = df.sort_values(ascending = False)[:5]\n",
    "industry = df.index\n",
    "amount = df.values\n",
    "\n",
    "plt.pie(amount,labels = industry,autopct='%0.2f',counterclock=False,startangle=100)\n",
    "plt.show()\n",
    "percent = np.true_divide(amount,amount.sum())*100\n",
    "for i in range(len(industry)):\n",
    "    print(industry[i],format(percent[i],'0.2f'))"
   ]
  },
  {
   "cell_type": "markdown",
   "id": "3a40b6d8",
   "metadata": {},
   "source": [
    "# Top startups"
   ]
  },
  {
   "cell_type": "code",
   "execution_count": null,
   "id": "661e709e",
   "metadata": {},
   "outputs": [],
   "source": [
    "import pandas as pd \n",
    "import numpy as np \n",
    "import matplotlib.pyplot as plt\n",
    "\n",
    "df = pd.read_csv('startup_funding.csv',encoding = 'utf-8')\n",
    "df['AmountInUSD'] = df['AmountInUSD'].apply(lambda x: float(str(x).replace(\",\",\"\")))\n",
    "df['StartupName'] = df['StartupName'].replace(['Flipkart.com','Ola Cabs','Olacabs','Oyo Rooms','Oyorooms','OyoRooms','Paytm Marketplace'],['Flipkart','Ola','Ola','Oyo','Oyo','Oyo','Paytm'])\n",
    "df= df.groupby(by='StartupName')['AmountInUSD'].sum()\n",
    "df = df.sort_values(ascending = False)\n",
    "df=df.nlargest(5)\n",
    "\n",
    "IndustryVertical = df.index\n",
    "amount = df.values\n",
    "plt.pie(amount,labels = IndustryVertical,autopct='%0.2f',counterclock=False,startangle=90,radius=1.5)\n",
    "plt.show()\n",
    "\n",
    "for i in range(len(IndustryVertical)):\n",
    "    print(IndustryVertical[i])"
   ]
  },
  {
   "cell_type": "markdown",
   "id": "e98affc1",
   "metadata": {},
   "source": [
    "# Funding rounds"
   ]
  },
  {
   "cell_type": "code",
   "execution_count": null,
   "id": "48232c23",
   "metadata": {},
   "outputs": [],
   "source": [
    "import pandas as pd \n",
    "import numpy as np \n",
    "import matplotlib.pyplot as plt\n",
    "\n",
    "df = pd.read_csv('startup_funding.csv',encoding = 'utf-8')\n",
    "df['StartupName'] = df['StartupName'].replace(['Flipkart.com','Ola Cabs','Olacabs','Oyo Rooms','Oyorooms','OyoRooms','Paytm Marketplace','OYO Rooms'],['Flipkart','Ola','Ola','Oyo','Oyo','Oyo','Paytm','Oyo'])\n",
    "df = df.groupby(by='StartupName').size()\n",
    "df=df.nlargest(5)\n",
    "\n",
    "StartupName = df.index\n",
    "amount = df.values\n",
    "plt.pie(amount,labels = StartupName,autopct='%0.2f',counterclock=False,startangle=90,radius=1.5)\n",
    "plt.show()\n",
    "\n",
    "for i in range(len(StartupName)):\n",
    "    print(StartupName[i],amount[i])"
   ]
  },
  {
   "cell_type": "markdown",
   "id": "5d0fd29d",
   "metadata": {},
   "source": [
    "# Top Investor"
   ]
  },
  {
   "cell_type": "code",
   "execution_count": null,
   "id": "a9f23da5",
   "metadata": {},
   "outputs": [],
   "source": [
    " Print the required output in given format\n",
    "import csv\n",
    "import numpy as np\n",
    "with open('startup_funding.csv', encoding='utf8') as file_obj:\n",
    "    file_data=csv.DictReader(file_obj, skipinitialspace=True)\n",
    "    investors=[]\n",
    "    for row in file_data:\n",
    "        if not ('Undisclosed' in row['InvestorsName'] or 'undisclosed' in row['InvestorsName']):\n",
    "            for i in row['InvestorsName'].split(','):\n",
    "                investors.append(i.strip())\n",
    "    dic=dict()\n",
    "    for i in investors:\n",
    "        if i in dic.keys():\n",
    "            dic[i]+=1\n",
    "        else:\n",
    "            dic[i]=1\n",
    "    x=[]\n",
    "    y=[]\n",
    "    for i in dic.keys():\n",
    "        x.append(i)\n",
    "        y.append(dic[i])\n",
    "    np_x=np.array(x)\n",
    "    np_y=np.array(y)\n",
    "    np_x=np_x[np.argsort(np_y)]\n",
    "    np_y=np.sort(np_y)\n",
    "    \n",
    "    np_y=np_y[::-1]\n",
    "    np_x=np_x[::-1]\n",
    "    print(np_x[0], np_y[0])"
   ]
  }
 ],
 "metadata": {
  "kernelspec": {
   "display_name": "Python 3 (ipykernel)",
   "language": "python",
   "name": "python3"
  },
  "language_info": {
   "codemirror_mode": {
    "name": "ipython",
    "version": 3
   },
   "file_extension": ".py",
   "mimetype": "text/x-python",
   "name": "python",
   "nbconvert_exporter": "python",
   "pygments_lexer": "ipython3",
   "version": "3.9.12"
  }
 },
 "nbformat": 4,
 "nbformat_minor": 5
}
